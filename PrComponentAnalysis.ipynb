{
 "cells": [
  {
   "cell_type": "markdown",
   "metadata": {},
   "source": [
    "# PCA\n",
    "\n",
    "Principal Components Analysis (PCA) is a dimensionality reduction algorithm that can be used to significantly speed up your unsupervised feature learning algorithm."
   ]
  },
  {
   "cell_type": "code",
   "execution_count": 87,
   "metadata": {},
   "outputs": [
    {
     "data": {
      "image/png": "[encoded data removed]",
      "text/plain": [
       "<matplotlib.figure.Figure at 0x11143db70>"
      ]
     },
     "metadata": {},
     "output_type": "display_data"
    }
   ],
   "source": [
    "import numpy as np\n",
    "import matplotlib.pyplot as plt\n",
    "%matplotlib inline\n",
    "from scipy.stats import truncnorm\n",
    "\n",
    "def get_truncated_normal(mean=0, sd=1, low=-1, upp=1):\n",
    "    return truncnorm(\n",
    "        (low - mean) / sd, (upp - mean) / sd, loc=mean, scale=sd)\n",
    "\n",
    "np.random.seed(42)\n",
    "\n",
    "x1 = get_truncated_normal()\n",
    "x1 = x1.rvs(100)\n",
    "x2 = get_truncated_normal()\n",
    "x2 = x2.rvs(100)\n",
    "plt.plot(x1, x2, 'x')\n",
    "plt.show()"
   ]
  },
  {
   "cell_type": "code",
   "execution_count": 88,
   "metadata": {},
   "outputs": [
    {
     "data": {
      "text/plain": [
       "(2, 100)"
      ]
     },
     "execution_count": 88,
     "metadata": {},
     "output_type": "execute_result"
    }
   ],
   "source": [
    "y = np.c_[x1, x2].T\n",
    "y.shape"
   ]
  },
  {
   "cell_type": "markdown",
   "metadata": {},
   "source": [
    "\\begin{align}\n",
    "\\Sigma = \\frac{1}{m} \\sum_{i=1}^m (x^{(i)})(x^{(i)})^T. \n",
    "\\end{align}"
   ]
  },
  {
   "cell_type": "code",
   "execution_count": 89,
   "metadata": {},
   "outputs": [
    {
     "data": {
      "text/plain": [
       "array([[ 0.30921983, -0.00779793],\n",
       "       [-0.00779793,  0.29479197]])"
      ]
     },
     "execution_count": 89,
     "metadata": {},
     "output_type": "execute_result"
    }
   ],
   "source": [
    "sigma = 1 / 100 * y.dot(y.T)\n",
    "sigma"
   ]
  },
  {
   "cell_type": "code",
   "execution_count": 90,
   "metadata": {},
   "outputs": [
    {
     "data": {
      "text/plain": [
       "array([[ 0.91626552,  0.40057147],\n",
       "       [-0.40057147,  0.91626552]])"
      ]
     },
     "execution_count": 90,
     "metadata": {},
     "output_type": "execute_result"
    }
   ],
   "source": [
    "w, v = np.linalg.eig(sigma)\n",
    "v"
   ]
  },
  {
   "cell_type": "code",
   "execution_count": 91,
   "metadata": {},
   "outputs": [],
   "source": [
    "u1 = v.T[0]   # the principal direction of variation of the data\n",
    "u2 = v.T[1]   # orthogonal to u1"
   ]
  },
  {
   "cell_type": "code",
   "execution_count": 104,
   "metadata": {},
   "outputs": [
    {
     "data": {
      "text/plain": [
       "array([[3.12628915e-01, 2.44249065e-17],\n",
       "       [2.44249065e-17, 2.91382881e-01]])"
      ]
     },
     "execution_count": 104,
     "metadata": {},
     "output_type": "execute_result"
    }
   ],
   "source": [
    "## Change of basis\n",
    "\n",
    "x = v.T.dot(y)\n",
    "x[:2]\n",
    "cov =  1/ 100 * x.dot(x.T)\n",
    "cov"
   ]
  },
  {
   "cell_type": "code",
   "execution_count": 93,
   "metadata": {},
   "outputs": [
    {
     "data": {
      "text/plain": [
       "[<matplotlib.lines.Line2D at 0x113c910b8>]"
      ]
     },
     "execution_count": 93,
     "metadata": {},
     "output_type": "execute_result"
    },
    {
     "data": {
      "image/png": "[encoded data removed]",
      "text/plain": [
       "<matplotlib.figure.Figure at 0x1115679e8>"
      ]
     },
     "metadata": {},
     "output_type": "display_data"
    }
   ],
   "source": [
    "plt.plot(x[0, :], x[1, :], 'x')"
   ]
  },
  {
   "cell_type": "code",
   "execution_count": 94,
   "metadata": {},
   "outputs": [
    {
     "data": {
      "text/plain": [
       "array([ 0.16824683,  0.70226979,  0.50335226,  0.14955945, -0.88189645,\n",
       "       -0.39750198, -0.71502594,  0.43680161,  0.35247507,  0.65481888])"
      ]
     },
     "execution_count": 94,
     "metadata": {},
     "output_type": "execute_result"
    }
   ],
   "source": [
    "pca = u1.T.dot(y)\n",
    "pca[:10]"
   ]
  },
  {
   "cell_type": "code",
   "execution_count": 95,
   "metadata": {},
   "outputs": [
    {
     "data": {
      "text/plain": [
       "[<matplotlib.lines.Line2D at 0x113e1b710>]"
      ]
     },
     "execution_count": 95,
     "metadata": {},
     "output_type": "execute_result"
    },
    {
     "data": {
      "image/png": "[encoded data removed]",
      "text/plain": [
       "<matplotlib.figure.Figure at 0x10f948cc0>"
      ]
     },
     "metadata": {},
     "output_type": "display_data"
    }
   ],
   "source": [
    "plt.plot(pca, np.zeros(100), 'x')"
   ]
  },
  {
   "cell_type": "code",
   "execution_count": 96,
   "metadata": {},
   "outputs": [
    {
     "data": {
      "text/plain": [
       "[<matplotlib.lines.Line2D at 0x113f4acc0>]"
      ]
     },
     "execution_count": 96,
     "metadata": {},
     "output_type": "execute_result"
    },
    {
     "data": {
      "image/png": "[encoded data removed]",
      "text/plain": [
       "<matplotlib.figure.Figure at 0x113e9c518>"
      ]
     },
     "metadata": {},
     "output_type": "display_data"
    }
   ],
   "source": [
    "plt.plot(pca, pca, 'x')"
   ]
  },
  {
   "cell_type": "code",
   "execution_count": 97,
   "metadata": {},
   "outputs": [
    {
     "data": {
      "text/plain": [
       "array([[-0.5647507 ,  0.89101388,  0.24440359,  0.16130991, -0.26800686,\n",
       "        -0.75249343, -0.8383725 ,  0.79913302, -0.03378774,  0.01211428,\n",
       "        -1.01189201,  0.59449493,  0.88079284, -0.24890376, -0.43422009,\n",
       "        -0.24882897, -0.09438436, -0.18750859,  0.18637385, -0.30764807,\n",
       "         0.39800246, -0.31035329, -0.45994545, -0.50238819, -0.26274159,\n",
       "         0.41644694, -0.26376167,  0.28781536, -0.2472785 , -0.79578202,\n",
       "         0.11278647, -0.74581293, -1.04346077,  0.67968189,  1.1718815 ,\n",
       "         0.38539153, -0.29941752, -0.54904856,  0.19948515,  0.27585401,\n",
       "        -0.28120352, -0.18317721, -0.83318659,  0.56655064, -0.54064331,\n",
       "        -0.10264419, -0.22498254,  0.03330842, -0.27276807, -0.67643728,\n",
       "         1.14833474,  0.2638198 ,  0.51057401,  0.66837583,  0.53889799,\n",
       "         0.54959892, -0.59066585, -0.31471473, -0.99232217, -0.11744446,\n",
       "        -0.26703785, -0.2767067 ,  0.63847364, -0.20236468, -0.66087157,\n",
       "         0.31115853, -0.72890516,  0.27081176, -1.09719515,  0.9455298 ,\n",
       "         0.5672581 , -0.87777699, -0.89380954,  0.32655776,  0.43199048,\n",
       "         0.13257396,  0.57519227, -0.81956006,  0.11035595, -0.92077509,\n",
       "         0.50160794, -0.09315978,  0.0539796 , -0.48462546, -0.47271644,\n",
       "        -0.1672544 ,  0.59920596,  0.25561119,  0.68036788, -0.22672173,\n",
       "        -0.95260373,  0.63966001,  0.72392194,  0.18829844,  0.32957956,\n",
       "        -0.11426646,  0.19461622,  0.18351264, -0.56431278, -0.4701869 ],\n",
       "       [-0.75165629, -0.13240835, -0.45961041, -0.05451371,  0.95346069,\n",
       "        -0.15462642,  0.19848491,  0.14423573, -0.51142958, -0.88084429,\n",
       "         0.04083163, -0.93294851,  0.50780032,  0.71389005,  0.4411855 ,\n",
       "         0.85729669,  0.63667322, -0.53469797,  0.71770324,  0.20802959,\n",
       "         0.42959574,  0.94351228, -0.14451432, -0.57318655, -0.41314706,\n",
       "        -0.31855255,  0.74205474,  0.59753186, -0.96208075,  0.36797186,\n",
       "        -0.20407095, -0.21422685, -0.31296519, -0.60442986,  0.41548444,\n",
       "        -0.50388237,  0.16599892,  0.62716475, -0.34425741,  0.88710555,\n",
       "         1.10423306, -0.39839423,  0.35911236, -0.62707467, -0.17501867,\n",
       "        -0.93828733,  0.30419745, -0.00955827, -0.8236887 , -0.12809932,\n",
       "         0.33601981, -0.61906703, -0.93353487, -0.31189892,  0.81246665,\n",
       "        -0.73882902,  0.58450849,  0.6437731 , -0.07391023,  0.48902276,\n",
       "        -0.13233499,  0.37021889, -0.02753144,  0.15532527, -0.55275523,\n",
       "         0.52918168, -0.02148296, -0.73517866, -0.49264396, -0.24292008,\n",
       "         0.08890718, -0.65770618,  0.41334122, -0.67380003,  0.0851235 ,\n",
       "        -0.70155739,  0.11173399,  0.14541481,  0.86310076, -0.32488822,\n",
       "        -0.51987938, -0.74379548,  0.85626831,  0.97433368, -0.25918202,\n",
       "         0.37574536,  0.36303918, -0.00849896, -0.24204191, -0.39985923,\n",
       "        -0.41816072,  0.53095149,  0.50201552,  0.16845414, -0.44862484,\n",
       "        -0.2348668 ,  0.34802476,  0.73010967,  1.03258295,  0.75002672]])"
      ]
     },
     "execution_count": 97,
     "metadata": {},
     "output_type": "execute_result"
    }
   ],
   "source": [
    "## Get back original Data\n",
    "\n",
    "orig = v.dot(y)\n",
    "orig[:10]"
   ]
  },
  {
   "cell_type": "code",
   "execution_count": 98,
   "metadata": {},
   "outputs": [
    {
     "data": {
      "text/plain": [
       "[<matplotlib.lines.Line2D at 0x1140ad518>]"
      ]
     },
     "execution_count": 98,
     "metadata": {},
     "output_type": "execute_result"
    },
    {
     "data": {
      "image/png": "[encoded data removed]",
      "text/plain": [
       "<matplotlib.figure.Figure at 0x111449518>"
      ]
     },
     "metadata": {},
     "output_type": "display_data"
    }
   ],
   "source": [
    "plt.plot(orig[0, :], orig[1, :], 'x')"
   ]
  }
 ],
 "metadata": {
  "kernelspec": {
   "display_name": "Python 3",
   "language": "python",
   "name": "python3"
  },
  "language_info": {
   "codemirror_mode": {
    "name": "ipython",
    "version": 3
   },
   "file_extension": ".py",
   "mimetype": "text/x-python",
   "name": "python",
   "nbconvert_exporter": "python",
   "pygments_lexer": "ipython3",
   "version": "3.6.1"
  }
 },
 "nbformat": 4,
 "nbformat_minor": 2
}
