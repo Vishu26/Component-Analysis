{
 "cells": [
  {
   "cell_type": "markdown",
   "metadata": {},
   "source": [
    "# ZCA Whitening\n",
    "\n"
   ]
  },
  {
   "cell_type": "code",
   "execution_count": 1,
   "metadata": {},
   "outputs": [
    {
     "data": {
      "image/png": "[encoded data removed]",
      "text/plain": [
       "<matplotlib.figure.Figure at 0x10f60ad68>"
      ]
     },
     "metadata": {},
     "output_type": "display_data"
    }
   ],
   "source": [
    "import numpy as np\n",
    "import matplotlib.pyplot as plt\n",
    "%matplotlib inline\n",
    "from scipy.stats import truncnorm\n",
    "\n",
    "def get_truncated_normal(mean=0, sd=1, low=-1, upp=1):\n",
    "    return truncnorm(\n",
    "        (low - mean) / sd, (upp - mean) / sd, loc=mean, scale=sd)\n",
    "\n",
    "np.random.seed(42)\n",
    "\n",
    "x1 = get_truncated_normal()\n",
    "x1 = x1.rvs(100)\n",
    "x2 = get_truncated_normal()\n",
    "x2 = x2.rvs(100)\n",
    "plt.plot(x1, x2, 'x')\n",
    "plt.show()"
   ]
  },
  {
   "cell_type": "code",
   "execution_count": 2,
   "metadata": {},
   "outputs": [
    {
     "data": {
      "text/plain": [
       "(2, 100)"
      ]
     },
     "execution_count": 2,
     "metadata": {},
     "output_type": "execute_result"
    }
   ],
   "source": [
    "y = np.c_[x1, x2].T\n",
    "y.shape"
   ]
  },
  {
   "cell_type": "code",
   "execution_count": 3,
   "metadata": {},
   "outputs": [
    {
     "data": {
      "text/plain": [
       "array([[ 0.30921983, -0.00779793],\n",
       "       [-0.00779793,  0.29479197]])"
      ]
     },
     "execution_count": 3,
     "metadata": {},
     "output_type": "execute_result"
    }
   ],
   "source": [
    "sigma = 1 / 100 * y.dot(y.T)\n",
    "sigma"
   ]
  },
  {
   "cell_type": "code",
   "execution_count": 4,
   "metadata": {},
   "outputs": [
    {
     "data": {
      "text/plain": [
       "(array([0.31262891, 0.29138288]), array([[ 0.91626552,  0.40057147],\n",
       "        [-0.40057147,  0.91626552]]))"
      ]
     },
     "execution_count": 4,
     "metadata": {},
     "output_type": "execute_result"
    }
   ],
   "source": [
    "w, v = np.linalg.eig(sigma)\n",
    "w, v"
   ]
  },
  {
   "cell_type": "code",
   "execution_count": 5,
   "metadata": {},
   "outputs": [
    {
     "data": {
      "text/plain": [
       "array([[3.12628915e-01, 2.44249065e-17],\n",
       "       [2.44249065e-17, 2.91382881e-01]])"
      ]
     },
     "execution_count": 5,
     "metadata": {},
     "output_type": "execute_result"
    }
   ],
   "source": [
    "## Change of basis\n",
    "\n",
    "x = v.T.dot(y)\n",
    "x[:2]\n",
    "cov =  1/ 100 * x.dot(x.T)\n",
    "cov"
   ]
  },
  {
   "cell_type": "markdown",
   "metadata": {},
   "source": [
    "## Whitening step\n",
    "\n",
    "\\begin{align}\n",
    "x_{\\rm PCAwhite,i} = \\frac{x_{\\rm i} }{\\sqrt{\\lambda_i}}.   \n",
    "\\end{align}"
   ]
  },
  {
   "cell_type": "code",
   "execution_count": 6,
   "metadata": {},
   "outputs": [],
   "source": [
    "## Whitening Step\n",
    "\n",
    "x[0, :] = x[0, :] / np.sqrt(w[0])\n",
    "x[1, :] = x[1, :] / np.sqrt(w[1])"
   ]
  },
  {
   "cell_type": "code",
   "execution_count": 7,
   "metadata": {},
   "outputs": [
    {
     "data": {
      "text/plain": [
       "array([[1.00000000e+00, 8.43769499e-17],\n",
       "       [8.43769499e-17, 1.00000000e+00]])"
      ]
     },
     "execution_count": 7,
     "metadata": {},
     "output_type": "execute_result"
    }
   ],
   "source": [
    "### Covariance equal to identity matrix\n",
    "\n",
    "cov =  1/ 100 * x.dot(x.T)\n",
    "cov"
   ]
  },
  {
   "cell_type": "markdown",
   "metadata": {},
   "source": [
    "## ZCA Whitening step\n",
    "\n",
    "\\begin{align}\n",
    "x_{\\rm ZCAwhite} = V x_{\\rm PCAwhite}\n",
    "\\end{align}"
   ]
  },
  {
   "cell_type": "code",
   "execution_count": 9,
   "metadata": {},
   "outputs": [
    {
     "data": {
      "text/plain": [
       "array([[-0.41070838,  1.56946388,  0.72637813,  0.30548594, -1.11069922,\n",
       "        -1.13922262, -1.52839443,  1.22379368,  0.30147966,  0.63578293,\n",
       "        -1.70581562,  1.6375359 ,  1.10502138, -0.91157678, -1.02813206,\n",
       "        -1.01169285, -0.60147723,  0.0629421 , -0.19274215, -0.65535696,\n",
       "         0.3594303 , -1.17393724, -0.66137421, -0.43208745, -0.14672439,\n",
       "         0.91295255, -0.95589159,  0.05940232,  0.26260669, -1.57626799,\n",
       "         0.32959455, -1.08648908, -1.51084181,  1.54910688,  1.65204715,\n",
       "         0.99102023, -0.61233523, -1.34846541,  0.57129223, -0.16283396,\n",
       "        -1.23796215, -0.02515353, -1.63207569,  1.37741324, -0.77381372,\n",
       "         0.48571575, -0.58555417,  0.06189196,  0.12362125, -1.03169699,\n",
       "         1.66856202,  0.87002056,  1.49884156,  1.32588969,  0.32534996,\n",
       "         1.42743005, -1.38763232, -0.97165145, -1.59317377, -0.53649438,\n",
       "        -0.35013099, -0.71743865,  1.07755446, -0.44400324, -0.70906493,\n",
       "         0.14587129, -1.19318974,  0.96277123, -1.47431598,  1.7370742 ,\n",
       "         0.87812061, -0.99523947, -1.77046756,  1.01227059,  0.65655078,\n",
       "         0.71013239,  0.87531623, -1.46011608, -0.42037824, -1.29914848,\n",
       "         1.19483803,  0.3654886 , -0.50904976, -1.48434822, -0.60239117,\n",
       "        -0.53987754,  0.73946022,  0.42963232,  1.29693781, -0.09630729,\n",
       "        -1.28670976,  0.68914607,  0.84904152,  0.19436848,  0.85988384,\n",
       "        -0.02523393,  0.07932225, -0.20615678, -1.65715072, -1.30362674],\n",
       "       [-1.69064696,  0.45446642, -0.5858705 ,  0.03100899,  1.39691337,\n",
       "        -0.83107233, -0.3035702 ,  0.84905344, -0.88413969, -1.469371  ,\n",
       "        -0.69999266, -1.11451424,  1.52134806,  1.00928254,  0.41077709,\n",
       "         1.25005955,  0.99702504, -1.03994864,  1.34627667,  0.11553659,\n",
       "         1.02339573,  1.34805201, -0.59190811, -1.34370605, -0.89305461,\n",
       "        -0.21842599,  1.04527478,  1.22160365, -1.8027421 ,  0.01327548,\n",
       "        -0.25688906, -0.92604286, -1.31784708, -0.49836834,  1.58746987,\n",
       "        -0.55310439,  0.05123565,  0.6357468 , -0.42635627,  1.69859299,\n",
       "         1.63997471, -0.80786158, -0.0300047 , -0.62230275, -0.70440228,\n",
       "        -1.65295309,  0.33974696,  0.00925338, -1.58979866, -0.7287797 ,\n",
       "         1.436198  , -0.83878534, -1.17923642, -0.01591731,  1.77308717,\n",
       "        -0.82276673,  0.53253631,  0.84160187, -0.8777333 ,  0.73166707,\n",
       "        -0.42495075,  0.41128504,  0.43870689,  0.10703066, -1.42977847,\n",
       "         1.12460121, -0.58966447, -1.02837815, -1.66026438,  0.31036795,\n",
       "         0.58007079, -1.77068721,  0.01497991, -0.88300984,  0.47098378,\n",
       "        -1.07693362,  0.62441352, -0.37836481,  1.53260313, -1.24468112,\n",
       "        -0.49169036, -1.31927861,  1.47831644,  1.26742863, -0.79408714,\n",
       "         0.5036907 ,  1.06448898,  0.17987048,  0.11045156, -0.84339278,\n",
       "        -1.42542077,  1.37706887,  1.39249433,  0.42577722, -0.50273915,\n",
       "        -0.4810292 ,  0.73200009,  1.36492882,  1.30468242,  0.90187646]])"
      ]
     },
     "execution_count": 9,
     "metadata": {},
     "output_type": "execute_result"
    }
   ],
   "source": [
    "ZCA = v.dot(x)\n",
    "ZCA[:2]"
   ]
  },
  {
   "cell_type": "code",
   "execution_count": 11,
   "metadata": {},
   "outputs": [
    {
     "data": {
      "text/plain": [
       "[<matplotlib.lines.Line2D at 0x111ac9ba8>]"
      ]
     },
     "execution_count": 11,
     "metadata": {},
     "output_type": "execute_result"
    },
    {
     "data": {
      "image/png": "[encoded data removed]",
      "text/plain": [
       "<matplotlib.figure.Figure at 0x111a94128>"
      ]
     },
     "metadata": {},
     "output_type": "display_data"
    }
   ],
   "source": [
    "plt.plot(ZCA[0, :], ZCA[1, :], 'x')  #### Much better approximation of original Data"
   ]
  },
  {
   "cell_type": "code",
   "execution_count": null,
   "metadata": {},
   "outputs": [],
   "source": []
  }
 ],
 "metadata": {
  "kernelspec": {
   "display_name": "Python 3",
   "language": "python",
   "name": "python3"
  },
  "language_info": {
   "codemirror_mode": {
    "name": "ipython",
    "version": 3
   },
   "file_extension": ".py",
   "mimetype": "text/x-python",
   "name": "python",
   "nbconvert_exporter": "python",
   "pygments_lexer": "ipython3",
   "version": "3.6.1"
  }
 },
 "nbformat": 4,
 "nbformat_minor": 2
}
